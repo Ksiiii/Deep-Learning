{
 "cells": [
  {
   "cell_type": "markdown",
   "metadata": {},
   "source": [
    "## Experiment\n",
    "You should utilize Numpy, Matplotlib and Tensor to implement the following work\n",
    "* `Visualizing the Trend of Random Data Changes`\n",
    "\n",
    "### Introduction\n",
    "What is `Moving Average`?\n",
    "\n",
    "Define:\n",
    "* A moving average is obtained by taking the average of consecutive data points, which helps to reduce noise and fluctuations in the data, resulting in a smoother curve. \n",
    "* A moving average is computed using a sliding window, where the window's size is determined by the chosen time interval or period.\n",
    "* For instance, in the case of daily stock price data, you could opt for a 10-day moving window. This implies that when calculating the average, the preceding 10 days' worth of data would be taken into account.\n",
    "* If you have an ordered sequence $\\left\\{ x_1,x_2,x_3,\\cdots ,x_N \\right\\}$ and you want to compute a moving average sequence $MA$ with a sliding window size $s$, here's a `formula` of the process: $$ MA_i=\\frac{x_{i-s+1}+x_{i-s+2}+\\cdots +x_i}{s}\\ \\ \\ \\ \\ \\forall i\\in \\mathbb{Z},\\ s-1\\le i\\le N $$ The sequence $ \\left\\{ MA_i|\\forall i\\in \\mathbb{Z},\\,\\,1\\le i<s-1 \\right\\}  $ contains default values, which is normal. You can either leave it as is without any adjustments or take it into consideration.\n",
    "\n",
    "\n",
    "What should you do?\n",
    "* You must refer the doc of [numpy.convolve](https://numpy.org/doc/stable/reference/generated/numpy.convolve.html#numpy-convolve)\n",
    "* You need to gradually implement the following steps and obtain the correct output"
   ]
  },
  {
   "cell_type": "markdown",
   "metadata": {},
   "source": [
    "0. According to the usual convention, import numpy, matplotlib.pyplot, and torch."
   ]
  },
  {
   "cell_type": "code",
   "execution_count": null,
   "metadata": {},
   "outputs": [],
   "source": []
  },
  {
   "cell_type": "markdown",
   "metadata": {},
   "source": [
    "1. Read the file named `data.txt` containing 100 integers using NumPy, normalize all values to the range [0, 1], and store the normalized array with two decimal places."
   ]
  },
  {
   "cell_type": "code",
   "execution_count": null,
   "metadata": {},
   "outputs": [],
   "source": []
  },
  {
   "cell_type": "markdown",
   "metadata": {},
   "source": [
    "2. Create a line plot using Matplotlib where the x-axis represents the indices of the normalized array ranging from 1 to 100, and the y-axis represents the values of the normalized array ranging from 0 to 1."
   ]
  },
  {
   "cell_type": "code",
   "execution_count": null,
   "metadata": {},
   "outputs": [],
   "source": []
  },
  {
   "cell_type": "markdown",
   "metadata": {},
   "source": [
    "3. Calculate the moving average of the normalized results using NumPy with a window size of 5. Store the calculated moving average values in a new one-dimensional NumPy array, referred to as the \"average values array.\""
   ]
  },
  {
   "cell_type": "code",
   "execution_count": null,
   "metadata": {},
   "outputs": [],
   "source": []
  },
  {
   "cell_type": "markdown",
   "metadata": {},
   "source": [
    "4. Create another line plot using Matplotlib where the x-axis represents the indices of the average values array ranging from 5 to 100, and the y-axis represents the values of the average values array ranging from 0 to 1."
   ]
  },
  {
   "cell_type": "code",
   "execution_count": null,
   "metadata": {},
   "outputs": [],
   "source": []
  },
  {
   "cell_type": "markdown",
   "metadata": {},
   "source": [
    "5. Combine the line plots of the normalized array and the average values array in the same figure using different colors for each line. Add a legend to explain the meanings of the two lines and set the title as \"Student ID + Name.\"  \n",
    "<span style=\"background-color: #FFFF00\">Note: \"Student ID + Name\" in step 5 should be replaced with your actual student ID and name.</span>"
   ]
  },
  {
   "cell_type": "code",
   "execution_count": null,
   "metadata": {},
   "outputs": [],
   "source": []
  },
  {
   "cell_type": "markdown",
   "metadata": {},
   "source": [
    "6. Transform the normalized array into a 2x50 Tensor by reshaping the data."
   ]
  },
  {
   "cell_type": "code",
   "execution_count": null,
   "metadata": {},
   "outputs": [],
   "source": []
  },
  {
   "cell_type": "markdown",
   "metadata": {},
   "source": [
    "7. Print the resulting Tensor."
   ]
  },
  {
   "cell_type": "code",
   "execution_count": null,
   "metadata": {},
   "outputs": [],
   "source": []
  }
 ],
 "metadata": {
  "kernelspec": {
   "display_name": "Python 3",
   "language": "python",
   "name": "python3"
  },
  "language_info": {
   "codemirror_mode": {
    "name": "ipython",
    "version": 3
   },
   "file_extension": ".py",
   "mimetype": "text/x-python",
   "name": "python",
   "nbconvert_exporter": "python",
   "pygments_lexer": "ipython3",
   "version": "3.7.12"
  }
 },
 "nbformat": 4,
 "nbformat_minor": 2
}

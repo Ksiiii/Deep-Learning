{
 "cells": [
  {
   "cell_type": "markdown",
   "metadata": {},
   "source": [
    "# Experiment 1\n",
    "Simple Usage of NumPy:\n",
    "1. Utilize `NumPy` to successfully execute `Python` code that meets the requirements in each cell.\n",
    "2. Ensure successful output of the results.\n",
    "   \n",
    "   \n",
    "### Introduction\n",
    "Why is `NumPy`?\n",
    "\n",
    "* A powerful N-dimensional array object, `ndarray`, which is a fast and memory-efficient multi-dimensional array with vectorized arithmetic operations and advanced broadcasting capabilities.\n",
    "* An integrated C language API that allows seamless integration of libraries written in languages such as C, C++, and Fortran.\n",
    "* Functionality for linear algebra operations, random number generation, and Fourier transform operations.\n",
    "* Standard mathematical functions for performing fast computations on entire data sets without the need for explicit loops. It supports a wide range of data manipulation.\n",
    "* It serves as the foundational library for numerous machine learning frameworks.\n",
    "\n",
    "In summary, the most important things is:\n",
    "\n",
    "* It can `efficiently` handle data from large arrays.\n",
    "\n",
    "### Tip  \n",
    "\n",
    "For more foundational knowledge about `NumPy`, please refer to the following:\n",
    "* https://www.numpy.org.cn/user/quickstart.html\n",
    "\n",
    "### Need to complete\n",
    "\n",
    "1. Import numpy library (you should follow the standard NumPy conventions)."
   ]
  },
  {
   "cell_type": "code",
   "execution_count": null,
   "metadata": {},
   "outputs": [],
   "source": []
  },
  {
   "cell_type": "markdown",
   "metadata": {},
   "source": [
    "2. Print the version number of NumPy."
   ]
  },
  {
   "cell_type": "code",
   "execution_count": null,
   "metadata": {},
   "outputs": [],
   "source": []
  },
  {
   "cell_type": "markdown",
   "metadata": {},
   "source": [
    "3. Use the `arange` function to generate 10 elements from 0 to 9 and store them in a variable named `ndarray`."
   ]
  },
  {
   "cell_type": "code",
   "execution_count": null,
   "metadata": {},
   "outputs": [],
   "source": []
  },
  {
   "cell_type": "markdown",
   "metadata": {},
   "source": [
    "4. Utilize the `array` function to convert data in Python list format into an equivalent `ndarray` named `ndarray1`."
   ]
  },
  {
   "cell_type": "code",
   "execution_count": null,
   "metadata": {},
   "outputs": [],
   "source": []
  },
  {
   "cell_type": "markdown",
   "metadata": {},
   "source": [
    "5. Reshape the `ndarray` and the `ndarray1` into a 2-row by 5-column array."
   ]
  },
  {
   "cell_type": "code",
   "execution_count": null,
   "metadata": {},
   "outputs": [],
   "source": []
  },
  {
   "cell_type": "markdown",
   "metadata": {},
   "source": [
    "6. Calculate the elementwise product of `ndarray` and `ndarray1` using the `*` operator, and print the result."
   ]
  },
  {
   "cell_type": "code",
   "execution_count": null,
   "metadata": {},
   "outputs": [],
   "source": []
  },
  {
   "cell_type": "markdown",
   "metadata": {},
   "source": [
    "7. Calculate the matrix product of `ndarray` and `ndarray1` using the `@` operator, and print the result. You need to use the `T` attribute to perform a transpose operation on `ndarray1`."
   ]
  },
  {
   "cell_type": "code",
   "execution_count": null,
   "metadata": {},
   "outputs": [],
   "source": []
  }
 ],
 "metadata": {
  "kernelspec": {
   "display_name": "Python 3",
   "language": "python",
   "name": "python3"
  },
  "language_info": {
   "codemirror_mode": {
    "name": "ipython",
    "version": 3
   },
   "file_extension": ".py",
   "mimetype": "text/x-python",
   "name": "python",
   "nbconvert_exporter": "python",
   "pygments_lexer": "ipython3",
   "version": "3.7.12"
  }
 },
 "nbformat": 4,
 "nbformat_minor": 2
}
